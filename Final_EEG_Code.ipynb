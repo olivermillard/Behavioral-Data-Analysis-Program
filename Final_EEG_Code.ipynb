{
 "cells": [
  {
   "cell_type": "code",
   "execution_count": 9,
   "metadata": {},
   "outputs": [
    {
     "name": "stdout",
     "output_type": "stream",
     "text": [
      "Input filename (pre): ACNSS004_flanker-pre_2018-07-18_13-22-24.csv\n",
      "Input filename (post): ACNSS004_flanker-post_2018-07-18_14-28-14.csv\n",
      "Number of Correct Responses (pre): 187\n",
      "Number of Correct Responses (post): 191\n",
      "Number of Incorrect Responses (pre): 5\n",
      "Number of Incorrect Responses (post): 1\n",
      "- - - - - - - - - - - - - - - - - - - - - - - - - -\n",
      "Total number of Incorrect Responses (pre + post): 6\n"
     ]
    }
   ],
   "source": [
    "#1: Find the number of incorrect flanker responses per participant.\n",
    "\n",
    "#import packages that are needed\n",
    "import matplotlib.pyplot as plt\n",
    "import numpy as np\n",
    "import pandas as pd\n",
    "import seaborn as sns\n",
    "\n",
    "#import flanker pre and post datasets\n",
    "file_pre = input(\"Input filename (pre): \")\n",
    "file_post = input(\"Input filename (post): \")\n",
    "\n",
    "# JK: what happens if I try running this on windows?\n",
    "# hint: the path separator on linux/mac is / whereas on windows it is \\.\n",
    "filepath_pre = '/Users/oliver/Desktop/data/{}'.format(file_pre)\n",
    "filepath_post = '/Users/oliver/Desktop/data/{}'.format(file_post)\n",
    "\n",
    "#import the data w/ variable filepath \n",
    "data_pre = pd.read_csv(filepath_pre)\n",
    "data_post = pd.read_csv(filepath_post)\n",
    "\n",
    "flanker_pre= pd.read_csv(filepath_pre)\n",
    "flanker_post = pd.read_csv(filepath_post)\n",
    "\n",
    "#select 'correct' column\n",
    "correct_pre = flanker_pre.loc[:, 'correct']\n",
    "correct_post = flanker_post.loc[:, 'correct']\n",
    "\n",
    "#sum the correct/incorrect answers of pretest\n",
    "TRUE_pre = correct_pre.sum()\n",
    "FALSE_pre = (correct_pre==False).sum()  #JK (~correct_pre).sum()\n",
    "\n",
    "#sum the correct/incorrect answers of post test\n",
    "TRUE_post = correct_post.sum()\n",
    "FALSE_post = (correct_post==False).sum()\n",
    "\n",
    "#print each seperately \n",
    "print('Number of Correct Responses (pre):', TRUE_pre)\n",
    "print('Number of Correct Responses (post):', TRUE_post)\n",
    "print('Number of Incorrect Responses (pre):', FALSE_pre)\n",
    "print('Number of Incorrect Responses (post):', FALSE_post)\n",
    "print('- - - - - - - - - - - - - - - - - - - - - - - - - -')\n",
    "\n",
    "#add the pre & post values to find total number of incorrect responses\n",
    "total_incorrect = FALSE_pre + FALSE_post\n",
    "print('Total number of Incorrect Responses (pre + post):', total_incorrect)"
   ]
  },
  {
   "cell_type": "code",
   "execution_count": 24,
   "metadata": {},
   "outputs": [],
   "source": [
    "# Instead of having to enter ACNSS004_flanker-pre_2018-07-18_13-22-24.csv,\n",
    "# code this so that one could enter ACNSS004_flanker-pre.\n",
    "# If for some reason the subject has more than one flanker-pre,\n",
    "# get the latest one.\n",
    "\n",
    "# hint, look into python globbing."
   ]
  },
  {
   "cell_type": "code",
   "execution_count": null,
   "metadata": {},
   "outputs": [],
   "source": []
  },
  {
   "cell_type": "code",
   "execution_count": 13,
   "metadata": {},
   "outputs": [
    {
     "name": "stdout",
     "output_type": "stream",
     "text": [
      "Global Average of Incorrect Responses: 14.125\n"
     ]
    }
   ],
   "source": [
    "#2: Get the global average number of incorrect flanker responses (across all participants).\n",
    "\n",
    "#import packages that are needed\n",
    "import matplotlib.pyplot as plt\n",
    "import numpy as np\n",
    "import pandas as pd\n",
    "import seaborn as sns\n",
    "\n",
    "#import csv documents and turn into list\n",
    "files = [\n",
    "    '/Users/oliver/Desktop/data/ACNSS004_flanker-pre_2018-07-18_13-22-24.csv',\n",
    "    '/Users/oliver/Desktop/data/ACNSS004_flanker-post_2018-07-18_14-28-14.csv',\n",
    "    '/Users/oliver/Desktop/data/ACNSS005_flanker-pre_2018-07-19_13-38-10.csv',\n",
    "    '/Users/oliver/Desktop/data/ACNSS005_flanker-post_2018-07-19_14-36-18.csv',\n",
    "    '/Users/oliver/Desktop/data/ACNSS006_flanker-pre_2018-07-19_16-03-30.csv',\n",
    "    '/Users/oliver/Desktop/data/ACNSS006_flanker-post_2018-07-19_17-01-53.csv',\n",
    "    '/Users/oliver/Desktop/data/ACNSS007_flanker-pre_2018-07-20_13-27-27.csv',\n",
    "    '/Users/oliver/Desktop/data/ACNSS007_flanker-post_2018-07-20_13-39-22.csv',\n",
    "]\n",
    "\n",
    "dfs = []\n",
    "for f in files:\n",
    "    this_df = pd.read_csv(f)\n",
    "    dfs.append(this_df)\n",
    "big_df = pd.concat(dfs, axis=0)\n",
    "\n",
    "#select correct/incorrect column\n",
    "big_df.loc[:, 'correct']\n",
    "TF = big_df.loc[:, 'correct']\n",
    "correct = TF.sum()\n",
    "incorrect = (TF==False).sum()\n",
    "\n",
    "#define variable for average and print\n",
    "avg_incorrect = incorrect/len(files)\n",
    "print(\"Global Average of Incorrect Responses: \" + str(avg_incorrect))"
   ]
  },
  {
   "cell_type": "code",
   "execution_count": 12,
   "metadata": {},
   "outputs": [
    {
     "name": "stdout",
     "output_type": "stream",
     "text": [
      "Input filename: ACNSS004_flanker-post_2018-07-18_14-28-14.csv\n"
     ]
    },
    {
     "data": {
      "text/plain": [
       "<matplotlib.axes._subplots.AxesSubplot at 0x1a23cc6160>"
      ]
     },
     "execution_count": 12,
     "metadata": {},
     "output_type": "execute_result"
    },
    {
     "data": {
      "image/png": "[encoded data removed]",
      "text/plain": [
       "<Figure size 432x288 with 1 Axes>"
      ]
     },
     "metadata": {},
     "output_type": "display_data"
    }
   ],
   "source": [
    "#3: Create a function that creates a histogram of flanker response times for any participant (use seaborn for this).\n",
    "\n",
    "#import packages that are needed\n",
    "import matplotlib.pyplot as plt\n",
    "import numpy as np\n",
    "import pandas as pd\n",
    "import seaborn as sns\n",
    "%matplotlib inline\n",
    "\n",
    "#create variable that changes upon input of filename\n",
    "file = input(\"Input filename: \")\n",
    "filepath = '/Users/oliver/Desktop/data/{}'.format(file)\n",
    "\n",
    "#import the data w/ variable filepath \n",
    "data = pd.read_csv(filepath)\n",
    "\n",
    "#specify the flanker response time column \n",
    "rt = data.loc[:, 'response_time']\n",
    "\n",
    "#eliminate NaN values\n",
    "clean_rt = rt.dropna()\n",
    "\n",
    "#create histogram\n",
    "sns.distplot(clean_rt, kde=True)"
   ]
  },
  {
   "cell_type": "code",
   "execution_count": 14,
   "metadata": {},
   "outputs": [
    {
     "name": "stdout",
     "output_type": "stream",
     "text": [
      "Input filename: ACNSS004_flanker-post_2018-07-18_14-28-14.csv\n",
      "Number of Correct Responses: 191\n",
      "Number of Incorrect Responses: 1\n"
     ]
    }
   ],
   "source": [
    "#4: Find the number incorrect and correct responses in the facts post-test per participant.\n",
    "\n",
    "#import packages that are needed\n",
    "import matplotlib.pyplot as plt\n",
    "import numpy as np\n",
    "import pandas as pd\n",
    "import seaborn as sns\n",
    "\n",
    "#create variable that changes upon input of filename\n",
    "file = input(\"Input filename: \")\n",
    "filepath = '/Users/oliver/Desktop/data/{}'.format(file)\n",
    "\n",
    "#import the data w/ variable filepath \n",
    "data = pd.read_csv(filepath)\n",
    "\n",
    "#specify the True/False facts column \n",
    "TF = data.loc[:, 'correct']\n",
    "\n",
    "#define TRUE and FALSE variables \n",
    "TRUE = TF.sum()\n",
    "FALSE = (TF==False).sum()\n",
    "\n",
    "#print number of True & False responses \n",
    "print('Number of Correct Responses:', TRUE)\n",
    "print('Number of Incorrect Responses:', FALSE) "
   ]
  },
  {
   "cell_type": "code",
   "execution_count": null,
   "metadata": {},
   "outputs": [],
   "source": [
    "#5: Per participant, find the number of incorrect and correct responses by True and False facts.\n",
    "    \n",
    "#import packages that are needed\n",
    "import matplotlib.pyplot as plt\n",
    "import numpy as np\n",
    "import pandas as pd\n",
    "import seaborn as sns\n",
    "\n",
    "#STEPS\n",
    "    #1: merge \n",
    "\n",
    "filepaths = [\n",
    "    [\"/Users/oliver/Desktop/data/ACNSS004_factsposttest_2018-07-18_14-55-56.csv\", \"/Users/oliver/Desktop/facts/ACNSS004.csv\"],\n",
    "    [\"/Users/oliver/Desktop/data/ACNSS005_factsposttest_2018-07-19_15-29-50.csv\", \"/Users/oliver/Desktop/facts/ACNSS005.csv\"],\n",
    "    [\"/Users/oliver/Desktop/data/ACNSS006_factsposttest_2018-07-19_17-38-37.csv\", \"/Users/oliver/Desktop/facts/ACNSS006.csv\"],\n",
    "    [\"/Users/oliver/Desktop/data/ACNSS007_factsposttest_2018-07-20_14-52-11.csv\", \"/Users/oliver/Desktop/facts/ACNSS007.csv\"],\n",
    "]\n",
    "file004 = filepaths[0]\n",
    "print(file004)\n",
    "\n",
    "#for loop to read data in filepaths and pair them together\n",
    "for filepath1, filepath2 in filepaths:\n",
    "    df1 = pd.read_csv(filepath1)\n",
    "    df2 = pd.read_csv(filepath2)\n",
    "    this_df = pd.concat([df1, df2], axis = 1)\n",
    "\n",
    "    correct = this_df.correct  # JK: prefer this_df.loc[:, 'correct']\n",
    "    TF = this_df.True_False\n",
    "\n",
    "    TTT = []\n",
    "    FFF = []\n",
    "\n",
    "    # JK: replace this for-loop with a pandas method.\n",
    "    # hint, look into pd.Series.str ...\n",
    "    for x in range(100):\n",
    "        if TF[x] == 'T': \n",
    "            TTT.append(correct[x])\n",
    "        else : \n",
    "            FFF.append(correct[x])\n",
    "\n",
    "    # JK: use pandas indexing to do this. \n",
    "    # for example, get rows of true facts and get correct/incorrect\n",
    "    # from that. etc.\n",
    "    answer_correct_T = sum(TTT)\n",
    "    answer_incorrect_T = len(TTT) - sum(TTT)\n",
    "    answer_correct_F = sum(FFF)\n",
    "    answer_incorrect_F = len(FFF) - sum(FFF)\n",
    "\n",
    "    #print total number of correct/incorrect answers for True Facts\n",
    "    print(\"- - - - - - - - - - - - - - - - - - - - - - - - - \")\n",
    "    print(\"Participant Number: \" + filepath2[-5: -6: -1])\n",
    "    print(\"Total Number of True Fact Correct Responses: \" + str(answer_correct_T))\n",
    "    print(\"Total Number of True Fact Incorrect Responses: \" + str(answer_incorrect_T))\n",
    "\n",
    "    #print total number of correct/incorrect answers for False Facts\n",
    "    print(\"Total Number of False Fact Correct Responses: \" + str(answer_correct_F))\n",
    "    print(\"Total Number of False Fact Incorrect Responses: \" + str(answer_incorrect_F))\n",
    "print(\"- - - - - - - - - - - - - - - - - - - - - - - - - \")"
   ]
  },
  {
   "cell_type": "code",
   "execution_count": null,
   "metadata": {},
   "outputs": [],
   "source": []
  },
  {
   "cell_type": "code",
   "execution_count": null,
   "metadata": {},
   "outputs": [],
   "source": []
  },
  {
   "cell_type": "code",
   "execution_count": null,
   "metadata": {},
   "outputs": [],
   "source": []
  }
 ],
 "metadata": {
  "kernelspec": {
   "display_name": "Python 3",
   "language": "python",
   "name": "python3"
  },
  "language_info": {
   "codemirror_mode": {
    "name": "ipython",
    "version": 3
   },
   "file_extension": ".py",
   "mimetype": "text/x-python",
   "name": "python",
   "nbconvert_exporter": "python",
   "pygments_lexer": "ipython3",
   "version": "3.6.5"
  }
 },
 "nbformat": 4,
 "nbformat_minor": 2
}
